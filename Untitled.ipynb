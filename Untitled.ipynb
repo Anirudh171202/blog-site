{
 "cells": [
  {
   "cell_type": "code",
   "execution_count": 6,
   "id": "4b3464b1",
   "metadata": {},
   "outputs": [],
   "source": [
    "import torch"
   ]
  },
  {
   "cell_type": "code",
   "execution_count": 9,
   "id": "8ffdf03a",
   "metadata": {},
   "outputs": [],
   "source": [
    "t = torch.randn(5,5)"
   ]
  },
  {
   "cell_type": "code",
   "execution_count": 10,
   "id": "881671ff",
   "metadata": {},
   "outputs": [
    {
     "data": {
      "text/plain": [
       "tensor([[-0.3076,  0.8259,  0.1621,  0.4822, -1.2358],\n",
       "        [ 0.9127, -1.9464,  0.2142,  0.0825, -1.1851],\n",
       "        [ 0.0422, -0.5267,  0.0605,  2.1276, -0.0652],\n",
       "        [-0.8264, -0.3605,  0.9428, -0.3710, -1.3241],\n",
       "        [ 0.8389, -0.0399, -0.7089, -0.6009,  1.1448]])"
      ]
     },
     "execution_count": 10,
     "metadata": {},
     "output_type": "execute_result"
    }
   ],
   "source": []
  },
  {
   "cell_type": "code",
   "execution_count": 13,
   "id": "42faac28",
   "metadata": {},
   "outputs": [
    {
     "data": {
      "text/plain": [
       "tensor([[-0.0732],\n",
       "        [-1.9221],\n",
       "        [ 1.6384],\n",
       "        [-1.9392],\n",
       "        [ 0.6339]])"
      ]
     },
     "execution_count": 13,
     "metadata": {},
     "output_type": "execute_result"
    }
   ],
   "source": [
    "t.sum(1, keepdims=True)"
   ]
  },
  {
   "cell_type": "code",
   "execution_count": 15,
   "id": "55e47f50",
   "metadata": {},
   "outputs": [
    {
     "data": {
      "text/plain": [
       "tensor([[-0.3076,  0.8259,  0.1621,  0.4822, -1.2358],\n",
       "        [ 0.9127, -1.9464,  0.2142,  0.0825, -1.1851],\n",
       "        [ 0.0422, -0.5267,  0.0605,  2.1276, -0.0652],\n",
       "        [-0.8264, -0.3605,  0.9428, -0.3710, -1.3241],\n",
       "        [ 0.8389, -0.0399, -0.7089, -0.6009,  1.1448]])"
      ]
     },
     "execution_count": 15,
     "metadata": {},
     "output_type": "execute_result"
    }
   ],
   "source": [
    "t"
   ]
  },
  {
   "cell_type": "code",
   "execution_count": 19,
   "id": "59d9a87c",
   "metadata": {},
   "outputs": [
    {
     "data": {
      "text/plain": [
       "tensor([-0.3076,  0.9127,  0.0422, -0.8264,  0.8389])"
      ]
     },
     "execution_count": 19,
     "metadata": {},
     "output_type": "execute_result"
    }
   ],
   "source": [
    "t[:, 0]"
   ]
  },
  {
   "cell_type": "code",
   "execution_count": null,
   "id": "fb0a1812",
   "metadata": {},
   "outputs": [],
   "source": []
  },
  {
   "cell_type": "code",
   "execution_count": null,
   "id": "bec2c5dc",
   "metadata": {},
   "outputs": [],
   "source": []
  }
 ],
 "metadata": {
  "kernelspec": {
   "display_name": "Python 3 (ipykernel)",
   "language": "python",
   "name": "python3"
  },
  "language_info": {
   "codemirror_mode": {
    "name": "ipython",
    "version": 3
   },
   "file_extension": ".py",
   "mimetype": "text/x-python",
   "name": "python",
   "nbconvert_exporter": "python",
   "pygments_lexer": "ipython3",
   "version": "3.9.16"
  }
 },
 "nbformat": 4,
 "nbformat_minor": 5
}
